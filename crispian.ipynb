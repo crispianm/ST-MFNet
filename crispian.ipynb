{
 "cells": [
  {
   "cell_type": "code",
   "execution_count": 2,
   "metadata": {},
   "outputs": [],
   "source": [
    "import tensorflow as tf\n",
    "from tensorflow import keras\n",
    "from tensorflow.keras import layers\n",
    "import numpy as np\n",
    "\n",
    "import torch\n",
    "import torch.nn as nn"
   ]
  },
  {
   "cell_type": "code",
   "execution_count": 6,
   "metadata": {},
   "outputs": [
    {
     "ename": "TypeError",
     "evalue": "cuda() missing 1 required positional argument: 'self'",
     "output_type": "error",
     "traceback": [
      "\u001b[1;31m---------------------------------------------------------------------------\u001b[0m",
      "\u001b[1;31mTypeError\u001b[0m                                 Traceback (most recent call last)",
      "\u001b[1;32mc:\\Users\\wg19671\\Desktop\\ST-MFNet\\crispian.ipynb Cell 2'\u001b[0m in \u001b[0;36m<cell line: 12>\u001b[1;34m()\u001b[0m\n\u001b[0;32m      <a href='vscode-notebook-cell:/c%3A/Users/wg19671/Desktop/ST-MFNet/crispian.ipynb#ch0000001?line=7'>8</a>\u001b[0m     model\u001b[39m.\u001b[39mload_state_dict(checkpoint[\u001b[39m'\u001b[39m\u001b[39mstate_dict\u001b[39m\u001b[39m'\u001b[39m])\n\u001b[0;32m     <a href='vscode-notebook-cell:/c%3A/Users/wg19671/Desktop/ST-MFNet/crispian.ipynb#ch0000001?line=9'>10</a>\u001b[0m     \u001b[39mreturn\u001b[39;00m model\n\u001b[1;32m---> <a href='vscode-notebook-cell:/c%3A/Users/wg19671/Desktop/ST-MFNet/crispian.ipynb#ch0000001?line=11'>12</a>\u001b[0m model \u001b[39m=\u001b[39m load_checkpoint(\u001b[39m\"\u001b[39;49m\u001b[39m./models/stmfnet.pth\u001b[39;49m\u001b[39m\"\u001b[39;49m)\n\u001b[0;32m     <a href='vscode-notebook-cell:/c%3A/Users/wg19671/Desktop/ST-MFNet/crispian.ipynb#ch0000001?line=12'>13</a>\u001b[0m \u001b[39mprint\u001b[39m(model)\n",
      "\u001b[1;32mc:\\Users\\wg19671\\Desktop\\ST-MFNet\\crispian.ipynb Cell 2'\u001b[0m in \u001b[0;36mload_checkpoint\u001b[1;34m(filepath)\u001b[0m\n\u001b[0;32m      <a href='vscode-notebook-cell:/c%3A/Users/wg19671/Desktop/ST-MFNet/crispian.ipynb#ch0000001?line=3'>4</a>\u001b[0m \u001b[39mdef\u001b[39;00m \u001b[39mload_checkpoint\u001b[39m(filepath):\n\u001b[0;32m      <a href='vscode-notebook-cell:/c%3A/Users/wg19671/Desktop/ST-MFNet/crispian.ipynb#ch0000001?line=5'>6</a>\u001b[0m     checkpoint \u001b[39m=\u001b[39m torch\u001b[39m.\u001b[39mload(filepath)\n\u001b[1;32m----> <a href='vscode-notebook-cell:/c%3A/Users/wg19671/Desktop/ST-MFNet/crispian.ipynb#ch0000001?line=6'>7</a>\u001b[0m     model \u001b[39m=\u001b[39m STMFNet\u001b[39m.\u001b[39;49mcuda()\n\u001b[0;32m      <a href='vscode-notebook-cell:/c%3A/Users/wg19671/Desktop/ST-MFNet/crispian.ipynb#ch0000001?line=7'>8</a>\u001b[0m     model\u001b[39m.\u001b[39mload_state_dict(checkpoint[\u001b[39m'\u001b[39m\u001b[39mstate_dict\u001b[39m\u001b[39m'\u001b[39m])\n\u001b[0;32m     <a href='vscode-notebook-cell:/c%3A/Users/wg19671/Desktop/ST-MFNet/crispian.ipynb#ch0000001?line=9'>10</a>\u001b[0m     \u001b[39mreturn\u001b[39;00m model\n",
      "\u001b[1;31mTypeError\u001b[0m: cuda() missing 1 required positional argument: 'self'"
     ]
    }
   ],
   "source": [
    "import models\n",
    "from models.stmfnet import STMFNet\n",
    "\n",
    "def load_checkpoint(filepath):\n",
    "\n",
    "    checkpoint = torch.load(filepath)\n",
    "    model = STMFNet.cuda()\n",
    "    model.load_state_dict(checkpoint['state_dict'])\n",
    "    \n",
    "    return model\n",
    "\n",
    "model = load_checkpoint(\"./models/stmfnet.pth\")\n",
    "print(model)\n"
   ]
  },
  {
   "cell_type": "code",
   "execution_count": null,
   "metadata": {},
   "outputs": [],
   "source": []
  },
  {
   "cell_type": "code",
   "execution_count": null,
   "metadata": {},
   "outputs": [],
   "source": []
  },
  {
   "cell_type": "code",
   "execution_count": 5,
   "metadata": {},
   "outputs": [
    {
     "name": "stderr",
     "output_type": "stream",
     "text": [
      "usage: ipykernel_launcher.py [-h] [--gpu_id GPU_ID] [--net NET]\n",
      "                             [--dataset DATASET]\n",
      "                             [--metrics METRICS [METRICS ...]]\n",
      "                             [--checkpoint CHECKPOINT] [--data_dir DATA_DIR]\n",
      "                             [--out_dir OUT_DIR] [--featc FEATC [FEATC ...]]\n",
      "                             [--featnet FEATNET] [--featnorm FEATNORM]\n",
      "                             [--kernel_size KERNEL_SIZE] [--dilation DILATION]\n",
      "                             [--finetune_pwc]\n",
      "ipykernel_launcher.py: error: ambiguous option: --f=c:\\Users\\wg19671\\AppData\\Roaming\\jupyter\\runtime\\kernel-v2-14520VXr4MSLcYVk.json could match --featc, --featnet, --featnorm, --finetune_pwc\n"
     ]
    },
    {
     "ename": "SystemExit",
     "evalue": "2",
     "output_type": "error",
     "traceback": [
      "An exception has occurred, use %tb to see the full traceback.\n",
      "\u001b[1;31mSystemExit\u001b[0m\u001b[1;31m:\u001b[0m 2\n"
     ]
    },
    {
     "name": "stderr",
     "output_type": "stream",
     "text": [
      "c:\\Users\\wg19671\\Anaconda3\\envs\\stmfnet\\lib\\site-packages\\IPython\\core\\interactiveshell.py:3406: UserWarning: To exit: use 'exit', 'quit', or Ctrl-D.\n",
      "  warn(\"To exit: use 'exit', 'quit', or Ctrl-D.\", stacklevel=1)\n"
     ]
    }
   ],
   "source": [
    "import argparse\n",
    "import torch\n",
    "import models\n",
    "import os\n",
    "from data import testsets\n",
    "\n",
    "parser = argparse.ArgumentParser(description='Frame Interpolation Evaluation')\n",
    "\n",
    "parser.add_argument('--gpu_id', type=int, default=0)\n",
    "parser.add_argument('--net', type=str, default='STMFNet')\n",
    "parser.add_argument('--dataset', type=str, default='Ucf101_quintuplet')\n",
    "parser.add_argument('--metrics', nargs='+', type=str, default=['PSNR', 'SSIM'])\n",
    "parser.add_argument('--checkpoint', type=str, default='ckpt.pth')\n",
    "parser.add_argument('--data_dir', type=str, default='D:\\\\')\n",
    "parser.add_argument('--out_dir', type=str, default='eval_results')\n",
    "\n",
    "# model parameters\n",
    "parser.add_argument('--featc', nargs='+', type=int, default=[64, 128, 256, 512])\n",
    "parser.add_argument('--featnet', type=str, default='UMultiScaleResNext')\n",
    "parser.add_argument('--featnorm', type=str, default='batch')\n",
    "parser.add_argument('--kernel_size', type=int, default=5)\n",
    "parser.add_argument('--dilation', type=int, default=1)\n",
    "parser.add_argument('--finetune_pwc', dest='finetune_pwc', default=False,  action='store_true')\n",
    "\n",
    "\n",
    "\n",
    "args = parser.parse_args()\n",
    "print(args)"
   ]
  },
  {
   "cell_type": "code",
   "execution_count": null,
   "metadata": {},
   "outputs": [],
   "source": []
  }
 ],
 "metadata": {
  "kernelspec": {
   "display_name": "Python 3.8.8 ('stmfnet')",
   "language": "python",
   "name": "python3"
  },
  "language_info": {
   "codemirror_mode": {
    "name": "ipython",
    "version": 3
   },
   "file_extension": ".py",
   "mimetype": "text/x-python",
   "name": "python",
   "nbconvert_exporter": "python",
   "pygments_lexer": "ipython3",
   "version": "3.8.8"
  },
  "orig_nbformat": 4,
  "vscode": {
   "interpreter": {
    "hash": "d5be8633809c4d4a6fd98bbeceba3cc69f691646712380d18efdcb68d5866f12"
   }
  }
 },
 "nbformat": 4,
 "nbformat_minor": 2
}
